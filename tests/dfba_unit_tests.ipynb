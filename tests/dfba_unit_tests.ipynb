{
 "cells": [
  {
   "cell_type": "markdown",
   "metadata": {},
   "source": [
    "Hier sind die Unit Tests für die dFBA."
   ]
  },
  {
   "cell_type": "markdown",
   "metadata": {},
   "source": [
    "Utils:"
   ]
  },
  {
   "cell_type": "code",
   "execution_count": 6,
   "metadata": {},
   "outputs": [
    {
     "name": "stderr",
     "output_type": "stream",
     "text": [
      "E"
     ]
    },
    {
     "name": "stderr",
     "output_type": "stream",
     "text": [
      ".E\n",
      "======================================================================\n",
      "ERROR: test_load_pkl_model (__main__.TestLoadModel.test_load_pkl_model)\n",
      "----------------------------------------------------------------------\n",
      "Traceback (most recent call last):\n",
      "  File \"c:\\Users\\User\\anaconda3\\Lib\\site-packages\\cobra\\io\\sbml.py\", line 458, in read_sbml_model\n",
      "    return _sbml_to_model(doc, number=number, f_replace=f_replace, **kwargs)\n",
      "           ^^^^^^^^^^^^^^^^^^^^^^^^^^^^^^^^^^^^^^^^^^^^^^^^^^^^^^^^^^^^^^^^^\n",
      "  File \"c:\\Users\\User\\anaconda3\\Lib\\site-packages\\cobra\\io\\sbml.py\", line 563, in _sbml_to_model\n",
      "    raise CobraSBMLError(\"No SBML model detected in file.\")\n",
      "cobra.io.sbml.CobraSBMLError: No SBML model detected in file.\n",
      "\n",
      "The above exception was the direct cause of the following exception:\n",
      "\n",
      "Traceback (most recent call last):\n",
      "  File \"c:\\Users\\User\\anaconda3\\Lib\\unittest\\mock.py\", line 1375, in patched\n",
      "    return func(*newargs, **newkeywargs)\n",
      "           ^^^^^^^^^^^^^^^^^^^^^^^^^^^^^\n",
      "  File \"C:\\Users\\User\\AppData\\Local\\Temp\\ipykernel_16908\\4058444608.py\", line 19, in test_load_pkl_model\n",
      "    model = load_model(model_path)\n",
      "            ^^^^^^^^^^^^^^^^^^^^^^\n",
      "  File \"c:\\Users\\User\\anaconda3\\Lib\\site-packages\\dFBA\\utils.py\", line 4, in load_model\n",
      "    return read_sbml_model(path)\n",
      "           ^^^^^^^^^^^^^^^^^^^^^\n",
      "  File \"c:\\Users\\User\\anaconda3\\Lib\\site-packages\\cobra\\io\\sbml.py\", line 472, in read_sbml_model\n",
      "    raise cobra_error from original_error\n",
      "cobra.io.sbml.CobraSBMLError: Something went wrong reading the SBML model. Most likely the SBML model is not valid. Please check that your model is valid using the `cobra.io.sbml.validate_sbml_model` function or via the online validator at https://sbml.org/validator_servlet/ .\n",
      "\t`(model, errors) = validate_sbml_model(filename)`\n",
      "If the model is valid and cannot be read please open an issue at https://github.com/opencobra/cobrapy/issues .\n",
      "\n",
      "======================================================================\n",
      "ERROR: test_load_unsupported_extension (__main__.TestLoadModel.test_load_unsupported_extension)\n",
      "----------------------------------------------------------------------\n",
      "Traceback (most recent call last):\n",
      "  File \"C:\\Users\\User\\AppData\\Local\\Temp\\ipykernel_16908\\4058444608.py\", line 38, in test_load_unsupported_extension\n",
      "    load_model(model_path)\n",
      "  File \"c:\\Users\\User\\anaconda3\\Lib\\site-packages\\dFBA\\utils.py\", line 4, in load_model\n",
      "    return read_sbml_model(path)\n",
      "           ^^^^^^^^^^^^^^^^^^^^^\n",
      "  File \"c:\\Users\\User\\anaconda3\\Lib\\site-packages\\cobra\\io\\sbml.py\", line 460, in read_sbml_model\n",
      "    raise e\n",
      "  File \"c:\\Users\\User\\anaconda3\\Lib\\site-packages\\cobra\\io\\sbml.py\", line 457, in read_sbml_model\n",
      "    doc = _get_doc_from_filename(filename)\n",
      "          ^^^^^^^^^^^^^^^^^^^^^^^^^^^^^^^^\n",
      "  File \"c:\\Users\\User\\anaconda3\\Lib\\site-packages\\cobra\\io\\sbml.py\", line 504, in _get_doc_from_filename\n",
      "    raise IOError(\n",
      "OSError: The file with 'C:\\Users\\User\\Documents\\GitHub\\dyn-pam\\src\\dFBA\\model.txt' does not exist, or is not an SBML string. Provide the path to an existing SBML file or a valid SBML string representation:\n",
      "\n",
      "\n",
      "----------------------------------------------------------------------\n",
      "Ran 3 tests in 0.025s\n",
      "\n",
      "FAILED (errors=2)\n"
     ]
    },
    {
     "name": "stdout",
     "output_type": "stream",
     "text": [
      "Starting unit tests...\n",
      "Testing .pkl model loading...\n",
      "Testing .xml/.sbml model loading...\n",
      ".xml/.sbml model loading passed.\n",
      "Testing unsupported file extension handling...\n",
      "All tests completed.\n"
     ]
    }
   ],
   "source": [
    "# load_model\n",
    "\n",
    "import unittest\n",
    "import os\n",
    "import pickle\n",
    "from unittest.mock import patch, mock_open\n",
    "from dFBA.utils import load_model\n",
    "\n",
    "def mock_read_sbml_model(path):\n",
    "    return f\"Mock SBML model from {path}\"\n",
    "\n",
    "class TestLoadModel(unittest.TestCase):\n",
    "    \n",
    "    @patch(\"builtins.open\", new_callable=mock_open, read_data=pickle.dumps(\"mock_model\"))\n",
    "    @patch(\"pickle.load\", return_value=\"mock_model\")\n",
    "    def test_load_pkl_model(self, mock_pickle_load, mock_file):\n",
    "        print(\"Testing .pkl model loading...\")\n",
    "        model_path = \"C:\\\\Users\\\\User\\\\Documents\\\\GitHub\\\\dyn-pam\\\\Models\\\\iML1515_core_PAM.pkl\"\n",
    "        model = load_model(model_path)\n",
    "        self.assertEqual(model, \"mock_model\")\n",
    "        mock_file.assert_called_once_with(model_path, \"rb\")\n",
    "        mock_pickle_load.assert_called_once()\n",
    "        print(\".pkl model loading passed.\")\n",
    "    \n",
    "    @patch(\"dFBA.utils.read_sbml_model\", side_effect=mock_read_sbml_model)\n",
    "    def test_load_sbml_model(self, mock_sbml):\n",
    "        print(\"Testing .xml/.sbml model loading...\")\n",
    "        model_path = \"C:\\\\Users\\\\User\\\\Documents\\\\GitHub\\\\dyn-pam\\\\src\\\\dFBA\\\\model.xml\"\n",
    "        model = load_model(model_path)\n",
    "        self.assertEqual(model, f\"Mock SBML model from {model_path}\")\n",
    "        mock_sbml.assert_called_once_with(model_path)\n",
    "        print(\".xml/.sbml model loading passed.\")\n",
    "    \n",
    "    def test_load_unsupported_extension(self):\n",
    "        print(\"Testing unsupported file extension handling...\")\n",
    "        model_path = \"C:\\\\Users\\\\User\\\\Documents\\\\GitHub\\\\dyn-pam\\\\src\\\\dFBA\\\\model.txt\"\n",
    "        with self.assertRaises(ValueError) as context:\n",
    "            load_model(model_path)\n",
    "        self.assertIn(\"Unsupported file extension\", str(context.exception))\n",
    "        print(\"Unsupported file extension handling passed.\")\n",
    "\n",
    "# Unit-Test ausführen\n",
    "if __name__ == \"__main__\":\n",
    "    print(\"Starting unit tests...\")\n",
    "    unittest.TextTestRunner().run(unittest.defaultTestLoader.loadTestsFromTestCase(TestLoadModel))\n",
    "    print(\"All tests completed.\")\n",
    "\n"
   ]
  }
 ],
 "metadata": {
  "kernelspec": {
   "display_name": "base",
   "language": "python",
   "name": "python3"
  },
  "language_info": {
   "codemirror_mode": {
    "name": "ipython",
    "version": 3
   },
   "file_extension": ".py",
   "mimetype": "text/x-python",
   "name": "python",
   "nbconvert_exporter": "python",
   "pygments_lexer": "ipython3",
   "version": "3.11.5"
  }
 },
 "nbformat": 4,
 "nbformat_minor": 2
}
